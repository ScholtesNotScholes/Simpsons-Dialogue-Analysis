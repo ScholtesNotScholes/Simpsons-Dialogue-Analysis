{
 "cells": [
  {
   "cell_type": "markdown",
   "id": "6cfc23d6-2289-4b22-a3c1-6676974130a3",
   "metadata": {},
   "source": [
    "# Importing Libraries and Data"
   ]
  },
  {
   "cell_type": "code",
   "execution_count": 1,
   "id": "b3c30baa-65dd-495f-99fa-63d4f266e974",
   "metadata": {},
   "outputs": [],
   "source": [
    "import pandas as pd\n",
    "\n",
    "import nltk\n",
    "\n",
    "import matplotlib.pyplot as plt\n",
    "import seaborn as sns"
   ]
  },
  {
   "cell_type": "code",
   "execution_count": 2,
   "id": "2bc0b071-4f7a-4723-84c9-5ef52fbcf2c7",
   "metadata": {},
   "outputs": [],
   "source": [
    "df = pd.read_csv(\"simpsons_dataset.csv\")"
   ]
  },
  {
   "cell_type": "code",
   "execution_count": 3,
   "id": "97de5527-4d73-4ffe-af6b-2984eab1ac46",
   "metadata": {},
   "outputs": [
    {
     "data": {
      "text/html": [
       "<div>\n",
       "<style scoped>\n",
       "    .dataframe tbody tr th:only-of-type {\n",
       "        vertical-align: middle;\n",
       "    }\n",
       "\n",
       "    .dataframe tbody tr th {\n",
       "        vertical-align: top;\n",
       "    }\n",
       "\n",
       "    .dataframe thead th {\n",
       "        text-align: right;\n",
       "    }\n",
       "</style>\n",
       "<table border=\"1\" class=\"dataframe\">\n",
       "  <thead>\n",
       "    <tr style=\"text-align: right;\">\n",
       "      <th></th>\n",
       "      <th>raw_character_text</th>\n",
       "      <th>spoken_words</th>\n",
       "    </tr>\n",
       "  </thead>\n",
       "  <tbody>\n",
       "    <tr>\n",
       "      <th>0</th>\n",
       "      <td>Miss Hoover</td>\n",
       "      <td>No, actually, it was a little of both. Sometim...</td>\n",
       "    </tr>\n",
       "    <tr>\n",
       "      <th>1</th>\n",
       "      <td>Lisa Simpson</td>\n",
       "      <td>Where's Mr. Bergstrom?</td>\n",
       "    </tr>\n",
       "    <tr>\n",
       "      <th>2</th>\n",
       "      <td>Miss Hoover</td>\n",
       "      <td>I don't know. Although I'd sure like to talk t...</td>\n",
       "    </tr>\n",
       "    <tr>\n",
       "      <th>3</th>\n",
       "      <td>Lisa Simpson</td>\n",
       "      <td>That life is worth living.</td>\n",
       "    </tr>\n",
       "    <tr>\n",
       "      <th>4</th>\n",
       "      <td>Edna Krabappel-Flanders</td>\n",
       "      <td>The polls will be open from now until the end ...</td>\n",
       "    </tr>\n",
       "  </tbody>\n",
       "</table>\n",
       "</div>"
      ],
      "text/plain": [
       "        raw_character_text                                       spoken_words\n",
       "0              Miss Hoover  No, actually, it was a little of both. Sometim...\n",
       "1             Lisa Simpson                             Where's Mr. Bergstrom?\n",
       "2              Miss Hoover  I don't know. Although I'd sure like to talk t...\n",
       "3             Lisa Simpson                         That life is worth living.\n",
       "4  Edna Krabappel-Flanders  The polls will be open from now until the end ..."
      ]
     },
     "execution_count": 3,
     "metadata": {},
     "output_type": "execute_result"
    }
   ],
   "source": [
    "df.head()"
   ]
  },
  {
   "cell_type": "code",
   "execution_count": 4,
   "id": "97080fea-fb12-47bd-9a60-a971015fdb59",
   "metadata": {},
   "outputs": [
    {
     "name": "stdout",
     "output_type": "stream",
     "text": [
      "<class 'pandas.core.frame.DataFrame'>\n",
      "RangeIndex: 158314 entries, 0 to 158313\n",
      "Data columns (total 2 columns):\n",
      " #   Column              Non-Null Count   Dtype \n",
      "---  ------              --------------   ----- \n",
      " 0   raw_character_text  140500 non-null  object\n",
      " 1   spoken_words        131855 non-null  object\n",
      "dtypes: object(2)\n",
      "memory usage: 2.4+ MB\n"
     ]
    }
   ],
   "source": [
    "df.info()"
   ]
  },
  {
   "cell_type": "markdown",
   "id": "e8bfcf28-9c16-4816-99c7-849ca3fc3402",
   "metadata": {},
   "source": [
    "# Data Exploration"
   ]
  },
  {
   "cell_type": "markdown",
   "id": "3565a783-90b4-420d-935d-36cb9b893fe9",
   "metadata": {},
   "source": [
    "Top 10 characters by number of lines:"
   ]
  },
  {
   "cell_type": "code",
   "execution_count": 5,
   "id": "7e28c575-5507-411d-822c-4e9cbbfdbfa5",
   "metadata": {},
   "outputs": [
    {
     "data": {
      "text/plain": [
       "Homer Simpson          29782\n",
       "NaN                    17814\n",
       "Marge Simpson          14141\n",
       "Bart Simpson           13759\n",
       "Lisa Simpson           11489\n",
       "C. Montgomery Burns     3162\n",
       "Moe Szyslak             2862\n",
       "Seymour Skinner         2438\n",
       "Ned Flanders            2144\n",
       "Grampa Simpson          1880\n",
       "Name: raw_character_text, dtype: int64"
      ]
     },
     "execution_count": 5,
     "metadata": {},
     "output_type": "execute_result"
    }
   ],
   "source": [
    "df[\"raw_character_text\"].value_counts(dropna=False).head(10)"
   ]
  },
  {
   "cell_type": "markdown",
   "id": "a4a327a8-8e94-48f6-b244-fb2ea1bbe33f",
   "metadata": {},
   "source": [
    "See if any of the instances where character is missing still contains lines:"
   ]
  },
  {
   "cell_type": "code",
   "execution_count": 6,
   "id": "e2f2e40e-f372-4a32-ad45-00755ea6c435",
   "metadata": {},
   "outputs": [
    {
     "data": {
      "text/plain": [
       "86485     EVERYWHERE AROUND THE WORLD / THEY'RE COMIN' T...\n",
       "143113                                           Right here\n",
       "Name: spoken_words, dtype: object"
      ]
     },
     "execution_count": 6,
     "metadata": {},
     "output_type": "execute_result"
    }
   ],
   "source": [
    "df.loc[(df[\"raw_character_text\"].isna()) & ~(df[\"spoken_words\"].isna()),\"spoken_words\"]"
   ]
  },
  {
   "cell_type": "markdown",
   "id": "60d57816-c5db-4f4f-9bc9-dfa269316b59",
   "metadata": {},
   "source": [
    "Only two, so we just drop any rows with character missing:"
   ]
  },
  {
   "cell_type": "code",
   "execution_count": 7,
   "id": "fcb36beb-7d9e-492e-9ecd-81bf5168d7b3",
   "metadata": {},
   "outputs": [],
   "source": [
    "df = df.dropna(how=\"any\")"
   ]
  },
  {
   "cell_type": "markdown",
   "id": "cf13d146-3c5e-4abc-8982-3ca004f1fb57",
   "metadata": {},
   "source": [
    "Let's extract all words that main members of the simpsons family say (excluding Maggie).\n",
    "\n",
    "First define a function that extracts words from lines:"
   ]
  },
  {
   "cell_type": "code",
   "execution_count": 8,
   "id": "6eca0fc2-28ad-4ed4-be3a-74ac8c5cdd30",
   "metadata": {},
   "outputs": [],
   "source": [
    "def get_words(line):\n",
    "    # Extract words converted to lower case and without punctuation:\n",
    "    words = [\"\".join([char for char in word.lower() if char.isalpha()]) for word in line.split()]\n",
    "\n",
    "    # Filter out stopwords and empty strings:\n",
    "    filtered_words = [word for word in words if word not in nltk.corpus.stopwords.words(\"english\") and len(word) > 0]\n",
    "\n",
    "    return filtered_words"
   ]
  },
  {
   "cell_type": "markdown",
   "id": "3b06fbfb-cedb-43e8-ae45-0535f6d0bbee",
   "metadata": {},
   "source": [
    "Next, group data frame by member of the Simpsons and extract all words as a single list of words:"
   ]
  },
  {
   "cell_type": "code",
   "execution_count": 9,
   "id": "495da9ff-53b9-4839-8012-20237870280a",
   "metadata": {},
   "outputs": [
    {
     "name": "stdout",
     "output_type": "stream",
     "text": [
      "CPU times: total: 3min 20s\n",
      "Wall time: 3min 28s\n"
     ]
    }
   ],
   "source": [
    "%%time\n",
    "\n",
    "simpsons = [\"Homer Simpson\",\"Marge Simpson\",\"Bart Simpson\",\"Lisa Simpson\"]\n",
    "\n",
    "homer,marge,bart,lisa = df[df[\"raw_character_text\"].isin(simpsons)].groupby(\"raw_character_text\").apply(\n",
    "    lambda character: [word for word_list in character[\"spoken_words\"].apply(get_words) for word in word_list]\n",
    ")"
   ]
  },
  {
   "cell_type": "markdown",
   "id": "82b410ab-5d72-4bdf-b818-71fc476f3680",
   "metadata": {},
   "source": [
    "How often do the characters refer to each other?"
   ]
  },
  {
   "cell_type": "code",
   "execution_count": 10,
   "id": "29703a09-217c-44ae-8447-890b29614567",
   "metadata": {},
   "outputs": [],
   "source": [
    "# Define a list of ways each character can be referred to by each other:\n",
    "simpsons_names = [\"homer\", \"dad\", \"homie\",\n",
    "                  \"marge\", \"mom\",\n",
    "                  \"bart\",\n",
    "                  \"lisa\"]\n",
    "\n",
    "homer_names = pd.Series(homer)[pd.Series(homer).isin(simpsons_names)].replace({\"dad\":\"homer\", \"homie\":\"homer\", \"mom\":\"marge\"})\n",
    "marge_names = pd.Series(marge)[pd.Series(marge).isin(simpsons_names)].replace({\"dad\":\"homer\", \"homie\":\"homer\", \"mom\":\"marge\"})\n",
    "bart_names = pd.Series(bart)[pd.Series(bart).isin(simpsons_names)].replace({\"dad\":\"homer\", \"homie\":\"homer\", \"mom\":\"marge\"})\n",
    "lisa_names = pd.Series(lisa)[pd.Series(lisa).isin(simpsons_names)].replace({\"dad\":\"homer\", \"homie\":\"homer\", \"mom\":\"marge\"})"
   ]
  },
  {
   "cell_type": "code",
   "execution_count": 11,
   "id": "b8357e82-75f8-4154-bb3f-ed5f7d885c17",
   "metadata": {},
   "outputs": [],
   "source": [
    "df_plot = pd.DataFrame({\n",
    "    \"Bart\": bart_names.value_counts(normalize=True).sort_index(ascending=False),\n",
    "    \"Homer\": homer_names.value_counts(normalize=True).sort_index(ascending=False),\n",
    "    \"Lisa\": lisa_names.value_counts(normalize=True).sort_index(ascending=False),\n",
    "    \"Marge\": marge_names.value_counts(normalize=True).sort_index(ascending=False)\n",
    "}).rename(index={\"bart\":\"Bart\", \"homer\":\"Homer\", \"lisa\":\"Lisa\", \"marge\":\"Marge\"})"
   ]
  },
  {
   "cell_type": "code",
   "execution_count": 12,
   "id": "92ce46d8-814c-4a3b-b6e8-ec2eb8053f63",
   "metadata": {},
   "outputs": [
    {
     "data": {
      "image/png": "[encoded data removed]",
      "text/plain": [
       "<Figure size 640x480 with 2 Axes>"
      ]
     },
     "metadata": {},
     "output_type": "display_data"
    }
   ],
   "source": [
    "sns.heatmap(df_plot, cmap=sns.color_palette(\"YlOrRd\", as_cmap=True), annot=True, fmt=\".2f\", vmin=0, vmax=1)\n",
    "\n",
    "plt.xlabel(\"Speaker\")\n",
    "plt.ylabel(\"Character referred to\")\n",
    "plt.suptitle(\"How Often Do The Simpsons Refer To Each Other?\", x=0.45)\n",
    "plt.title(\"Proportion of times characters say each other's names\\n(including 'mom','dad', or 'homie', a pet name for Homer)\", fontsize=8)\n",
    "\n",
    "plt.show()"
   ]
  }
 ],
 "metadata": {
  "kernelspec": {
   "display_name": "Python 3 (ipykernel)",
   "language": "python",
   "name": "python3"
  },
  "language_info": {
   "codemirror_mode": {
    "name": "ipython",
    "version": 3
   },
   "file_extension": ".py",
   "mimetype": "text/x-python",
   "name": "python",
   "nbconvert_exporter": "python",
   "pygments_lexer": "ipython3",
   "version": "3.11.4"
  }
 },
 "nbformat": 4,
 "nbformat_minor": 5
}
